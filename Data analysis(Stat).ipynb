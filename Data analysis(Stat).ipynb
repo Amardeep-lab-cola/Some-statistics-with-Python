{
 "cells": [
  {
   "cell_type": "code",
   "execution_count": 1,
   "metadata": {},
   "outputs": [],
   "source": [
    "import scipy\n",
    "import numpy as np\n",
    "from scipy.stats import binom\n",
    "import matplotlib.pyplot as plt\n",
    "import math\n",
    "import pandas as pd"
   ]
  },
  {
   "cell_type": "markdown",
   "metadata": {},
   "source": [
    "Binomial Distribution\n",
    "\n",
    "$P(x)=_nC^r P^{r}Q^{n-r}$"
   ]
  },
  {
   "attachments": {
    "image.png": {
     "image/png": "[encoded data removed]"
    }
   },
   "cell_type": "markdown",
   "metadata": {},
   "source": [
    "![image.png](attachment:image.png)"
   ]
  },
  {
   "cell_type": "markdown",
   "metadata": {},
   "source": [
    "1- A survey found that 65% of funancial consumers were very satisfied with their priamry financial.suopposse that 25 financial consumers are sampled and if survey result still holds true today, what is the probability that exactly 19 are very statisifed with their primary financial instiitution?"
   ]
  },
  {
   "cell_type": "code",
   "execution_count": 2,
   "metadata": {},
   "outputs": [
    {
     "name": "stdout",
     "output_type": "stream",
     "text": [
      "0.09077799859322798\n"
     ]
    }
   ],
   "source": [
    "print(binom.pmf(k=19,n=25,p=0.65)) #probability mass function,n= number of sample,p = probability getting succses"
   ]
  },
  {
   "cell_type": "markdown",
   "metadata": {},
   "source": [
    "According to the U.S. Census Bureau, approximately 6% of all workers in Jackson,Mississippi, are unemployed. In conducting a random telephone survey in Jackson,what is the probability of getting two or fewer unemployed workers in a sample of 20?"
   ]
  },
  {
   "cell_type": "code",
   "execution_count": 3,
   "metadata": {},
   "outputs": [
    {
     "name": "stdout",
     "output_type": "stream",
     "text": [
      "0.8850275957378546\n",
      "0.8850275957378548\n"
     ]
    }
   ],
   "source": [
    "print(binom.pmf(2,20,0.06)+binom.pmf(1,20,0.06)+binom.pmf(0,20,0.06))\n",
    "#above problem is also solve as \n",
    "print(binom.cdf(2,20,0.06))  #cdf = cumulative distribution function"
   ]
  },
  {
   "cell_type": "markdown",
   "metadata": {},
   "source": [
    "Poission Distribution\n",
    "\n",
    "$P(x)=\\frac{\\lambda e^{-\\lambda}}{x!}$\n",
    "where $\\lambda = mean$"
   ]
  },
  {
   "cell_type": "code",
   "execution_count": 4,
   "metadata": {},
   "outputs": [],
   "source": [
    "from scipy.stats import poisson"
   ]
  },
  {
   "cell_type": "code",
   "execution_count": 5,
   "metadata": {},
   "outputs": [
    {
     "data": {
      "text/plain": [
       "0.18044704431548356"
      ]
     },
     "execution_count": 5,
     "metadata": {},
     "output_type": "execute_result"
    }
   ],
   "source": [
    "poisson.pmf(3,2) #where 3= x and mean = 2"
   ]
  },
  {
   "cell_type": "markdown",
   "metadata": {},
   "source": [
    "Q-1 Bank customers arrive randomly on weekday afternoons at an average of 3.2 customers every 4 minutes. What is the probability of having exactly 5 customers in a 4-minute interval on a weekday afternoon?"
   ]
  },
  {
   "cell_type": "code",
   "execution_count": 6,
   "metadata": {},
   "outputs": [
    {
     "name": "stdout",
     "output_type": "stream",
     "text": [
      "0.11397938346351824\n"
     ]
    }
   ],
   "source": [
    "print(poisson.pmf(5,3.2)) #average costumer lambda = 5"
   ]
  },
  {
   "cell_type": "markdown",
   "metadata": {},
   "source": [
    "Q-2 Bank customers arrive randomly on weekday afternoons at an average of 3.2 customers every 4 minutes. What is the probability of having more than 7 customers in a 4-minute interval on a weekday afternoon?"
   ]
  },
  {
   "cell_type": "code",
   "execution_count": 7,
   "metadata": {},
   "outputs": [
    {
     "name": "stdout",
     "output_type": "stream",
     "text": [
      "0.01682984174895752\n"
     ]
    }
   ],
   "source": [
    "prob_of = poisson.cdf(7,3.2) # this is the probability less than 7\n",
    "prob_more7 = 1 - prob_of\n",
    "print(prob_more7)"
   ]
  },
  {
   "cell_type": "markdown",
   "metadata": {},
   "source": [
    "Q-3 A bank has an average random arrival rate of 3.2 customers every 4 minutes. What is the probability of getting exactly 10 customers during an 8-minute interval?"
   ]
  },
  {
   "cell_type": "code",
   "execution_count": 8,
   "metadata": {},
   "outputs": [
    {
     "data": {
      "text/plain": [
       "0.052790043854115495"
      ]
     },
     "execution_count": 8,
     "metadata": {},
     "output_type": "execute_result"
    }
   ],
   "source": [
    "prob_of_get10 = poisson.pmf(10,6.4) #we have to convert 3.2 costumer/4min to /8min\n",
    "prob_of_get10"
   ]
  },
  {
   "cell_type": "markdown",
   "metadata": {},
   "source": [
    "Q-4 Suppose the amount of time it takes to assemble a plastic module ranges from 27 to\n",
    "39 seconds and that assembly times are uniformly distributed. Describe the distribution.\n",
    "What is the probability that a given assembly will take between 30 and 35 seconds?\n",
    "Fewer than 30 seconds?"
   ]
  },
  {
   "cell_type": "code",
   "execution_count": 9,
   "metadata": {},
   "outputs": [
    {
     "data": {
      "text/plain": [
       "33.0"
      ]
     },
     "execution_count": 9,
     "metadata": {},
     "output_type": "execute_result"
    }
   ],
   "source": [
    "from scipy.stats import uniform\n",
    "U = np.arange(27,40,1)\n",
    "uniform.mean(loc=27,scale=12)"
   ]
  },
  {
   "cell_type": "code",
   "execution_count": 10,
   "metadata": {},
   "outputs": [
    {
     "data": {
      "text/plain": [
       "array([0.25      , 0.33333333, 0.41666667, 0.5       , 0.58333333,\n",
       "       0.66666667])"
      ]
     },
     "execution_count": 10,
     "metadata": {},
     "output_type": "execute_result"
    }
   ],
   "source": [
    "uniform.cdf(np.arange(30,36,1),loc=27,scale=12)"
   ]
  },
  {
   "cell_type": "code",
   "execution_count": 11,
   "metadata": {},
   "outputs": [],
   "source": [
    "prob = 0.66666667-0.25 #For probability between 30 and 35"
   ]
  },
  {
   "cell_type": "markdown",
   "metadata": {},
   "source": [
    "Q-5 According to the National Association of Insurance Commissioners, the average\n",
    "annual cost for automobile insurance in the United States in a recent year was $691.\n",
    "Suppose automobile insurance costs are uniformly distributed in the United States\n",
    "with a range of from $200 to $1,182. What is the standard deviation of this uniform distribution? What is the height of the distribution?(page-183)"
   ]
  },
  {
   "cell_type": "code",
   "execution_count": 12,
   "metadata": {},
   "outputs": [
    {
     "name": "stdout",
     "output_type": "stream",
     "text": [
      "mean 691.0\n",
      "stander deviation 283.4789821721062\n"
     ]
    }
   ],
   "source": [
    "print('mean', uniform.mean(200,982)) #For range we take 200 and 1182-200=982\n",
    "print('stander deviation',uniform.std(200,982))"
   ]
  },
  {
   "attachments": {
    "image.png": {
     "image/png": "[encoded data removed]"
    }
   },
   "cell_type": "markdown",
   "metadata": {},
   "source": [
    "Normal Distribution\n",
    "![image.png](attachment:image.png)"
   ]
  },
  {
   "cell_type": "code",
   "execution_count": 13,
   "metadata": {},
   "outputs": [
    {
     "name": "stdout",
     "output_type": "stream",
     "text": [
      "0.8413447460685429\n"
     ]
    }
   ],
   "source": [
    "from scipy.stats import norm\n",
    "value = 68\n",
    "Mean = 65.5\n",
    "stand_dev = 2.5\n",
    "print(norm.cdf(value,Mean,stand_dev))"
   ]
  },
  {
   "cell_type": "markdown",
   "metadata": {},
   "source": [
    "What is the probability of obtaining a score greater than 700 on a GMAT test that has\n",
    "a mean of 494 and a standard deviation of 100? Assume GMAT scores are normally\n",
    "distributed.(page-no :189)"
   ]
  },
  {
   "cell_type": "code",
   "execution_count": 14,
   "metadata": {},
   "outputs": [
    {
     "name": "stdout",
     "output_type": "stream",
     "text": [
      "4.128674718720102e-33\n"
     ]
    }
   ],
   "source": [
    "print(norm.cdf(1-700,494,100))"
   ]
  },
  {
   "cell_type": "markdown",
   "metadata": {},
   "source": [
    "For score 550 or less "
   ]
  },
  {
   "cell_type": "code",
   "execution_count": 15,
   "metadata": {},
   "outputs": [
    {
     "name": "stdout",
     "output_type": "stream",
     "text": [
      "0.712260281150973\n"
     ]
    }
   ],
   "source": [
    "print(norm.cdf(550,494,100))"
   ]
  },
  {
   "cell_type": "code",
   "execution_count": 16,
   "metadata": {},
   "outputs": [
    {
     "data": {
      "text/plain": [
       "1.6448536269514722"
      ]
     },
     "execution_count": 16,
     "metadata": {},
     "output_type": "execute_result"
    }
   ],
   "source": [
    "norm.ppf(0.95) #if z value is given "
   ]
  },
  {
   "cell_type": "markdown",
   "metadata": {},
   "source": [
    "Hypergeometric Distribution \n",
    "\n",
    "$P(x) = \\frac{_AC^x\\times _{N-A}C^{N-x}}{_NC^n}$"
   ]
  },
  {
   "cell_type": "markdown",
   "metadata": {},
   "source": [
    "What is the probability of obtaining a score greater than 700 on a GMAT test that has\n",
    "a mean of 494 and a standard deviation of 100? Assume GMAT scores are normally\n",
    "distributed.(page no:166)(N=18, n=3, A=12, x>=1)\n"
   ]
  },
  {
   "cell_type": "code",
   "execution_count": 17,
   "metadata": {},
   "outputs": [
    {
     "data": {
      "text/plain": [
       "0.9754901960784313"
      ]
     },
     "execution_count": 17,
     "metadata": {},
     "output_type": "execute_result"
    }
   ],
   "source": [
    "from scipy.stats import hypergeom\n",
    "pval = hypergeom.sf(0,18,3,12) #sf=servival function\n",
    "pval"
   ]
  },
  {
   "cell_type": "markdown",
   "metadata": {},
   "source": [
    "Q 1: A western city has 18 police officers eligible for promotion. Eleven of the 18 are\n",
    "Hispanic. Suppose only five of the police officers are chosen for promotion and that\n",
    "one is Hispanic. If the officers chosen for promotion had been selected by chance\n",
    "alone, what is the probability that one or fewer of the five promoted officers would\n",
    "have been Hispanic?(page no : 168)"
   ]
  },
  {
   "cell_type": "code",
   "execution_count": 18,
   "metadata": {},
   "outputs": [
    {
     "data": {
      "text/plain": [
       "0.9526143790849673"
      ]
     },
     "execution_count": 18,
     "metadata": {},
     "output_type": "execute_result"
    }
   ],
   "source": [
    "prob = hypergeom.sf(1,18,5,11)\n",
    "prob"
   ]
  },
  {
   "cell_type": "markdown",
   "metadata": {},
   "source": [
    "Eponential Distribution\n",
    "\n",
    "$f(x) = \\lambda e^{-\\lambda x}$"
   ]
  },
  {
   "cell_type": "markdown",
   "metadata": {},
   "source": [
    "Q: A manufacturing firm has been involved in statistical quality control for several years.\n",
    "As part of the production process, parts are randomly selected and tested. From the\n",
    "records of these tests, it has been established that a defective part occurs in a pattern\n",
    "that is Poisson distributed on the average of 1.38 defects every 20 minutes during\n",
    "production runs. Use this information to determine the probability that less than\n",
    "15 minutes will elapse between any two defects.(page no : 204)"
   ]
  },
  {
   "cell_type": "code",
   "execution_count": 19,
   "metadata": {},
   "outputs": [
    {
     "data": {
      "text/plain": [
       "0.6447736190750485"
      ]
     },
     "execution_count": 19,
     "metadata": {},
     "output_type": "execute_result"
    }
   ],
   "source": [
    "from scipy.stats import expon\n",
    "mu1 = 1/1.38 #lambda =1.38\n",
    "expon.cdf(0.75,0,(mu1))   # 0.75 = 15/20 for same unit"
   ]
  },
  {
   "cell_type": "code",
   "execution_count": 20,
   "metadata": {},
   "outputs": [
    {
     "data": {
      "text/plain": [
       "0.553035116623614"
      ]
     },
     "execution_count": 20,
     "metadata": {},
     "output_type": "execute_result"
    }
   ],
   "source": [
    "norm.cdf(8.4,8,3)"
   ]
  },
  {
   "cell_type": "markdown",
   "metadata": {},
   "source": [
    "For T test"
   ]
  },
  {
   "cell_type": "code",
   "execution_count": 21,
   "metadata": {},
   "outputs": [
    {
     "data": {
      "text/plain": [
       "TtestResult(statistic=1.5623450931857947, pvalue=0.1621787560592894, df=7)"
      ]
     },
     "execution_count": 21,
     "metadata": {},
     "output_type": "execute_result"
    }
   ],
   "source": [
    "from scipy import stats\n",
    "x = [10,12,20,21,22,24,18,15]\n",
    "stats.ttest_1samp(x,15)     # 15 is the value of mu(assumed population mean)"
   ]
  },
  {
   "cell_type": "code",
   "execution_count": 22,
   "metadata": {},
   "outputs": [
    {
     "data": {
      "text/plain": [
       "TtestResult(statistic=-0.358433858548785, pvalue=0.7239703579964251, df=19)"
      ]
     },
     "execution_count": 22,
     "metadata": {},
     "output_type": "execute_result"
    }
   ],
   "source": [
    "x = [13,8,10,10,8,9,10,11,6,8,12,11,11,12,10,12,7,10,11,8]\n",
    "stats.ttest_1samp(x,10)"
   ]
  },
  {
   "cell_type": "code",
   "execution_count": 23,
   "metadata": {},
   "outputs": [
    {
     "data": {
      "text/plain": [
       "0.36198517899821253"
      ]
     },
     "execution_count": 23,
     "metadata": {},
     "output_type": "execute_result"
    }
   ],
   "source": [
    "0.7239703579964251/2 # this value > 0.05 we have to accept null hypothesis\n",
    " "
   ]
  },
  {
   "cell_type": "code",
   "execution_count": 24,
   "metadata": {},
   "outputs": [],
   "source": [
    "from statsmodels.stats.proportion import proportions_ztest"
   ]
  },
  {
   "cell_type": "code",
   "execution_count": 25,
   "metadata": {},
   "outputs": [
    {
     "data": {
      "text/plain": [
       "(1.286806739751111, 0.1981616572238455)"
      ]
     },
     "execution_count": 25,
     "metadata": {},
     "output_type": "execute_result"
    }
   ],
   "source": [
    "count = 67\n",
    "samplesize = 120\n",
    "P = 0.5\n",
    "proportions_ztest(count,samplesize,P) "
   ]
  },
  {
   "cell_type": "markdown",
   "metadata": {},
   "source": [
    "Z value = 1.286806739751111,and p-value = 0.1981616572238455\n",
    "\n",
    "1.278 > 1.96 we cannot reject the null hypothesis"
   ]
  },
  {
   "cell_type": "markdown",
   "metadata": {},
   "source": [
    "Type -2 Error"
   ]
  },
  {
   "cell_type": "code",
   "execution_count": 26,
   "metadata": {},
   "outputs": [],
   "source": [
    "def type_2(mu1,mu2,sigma,n,alpha):\n",
    "    z = stats.norm.ppf(alpha)\n",
    "    xbar = (mu1)+(z*sigma/np.sqrt(n))\n",
    "    z2 = (xbar - mu2)/(sigma/np.sqrt(n))\n",
    "    if(mu1>mu2):\n",
    "        beta = 1-stats.norm.cdf(z2)\n",
    "    else:\n",
    "        beta = stats.norm.cdf(z2)\n",
    "    print(beta)"
   ]
  },
  {
   "cell_type": "code",
   "execution_count": 27,
   "metadata": {},
   "outputs": [
    {
     "name": "stdout",
     "output_type": "stream",
     "text": [
      "0.27292999450730004\n"
     ]
    }
   ],
   "source": [
    "type_2(8.3,7.4,3.1,60,0.05)"
   ]
  },
  {
   "cell_type": "markdown",
   "metadata": {},
   "source": [
    "Function For z and p value for Two standard deviaiton"
   ]
  },
  {
   "cell_type": "code",
   "execution_count": 28,
   "metadata": {},
   "outputs": [],
   "source": [
    "def z_and_p(x1,x2,sigma1,sigma2,n1,n2):\n",
    "    z = (x1-x2)/(math.sqrt(((sigma1**2)/n1)+((sigma2**2)/n2)))\n",
    "    if z<0 :\n",
    "        p = stats.norm.cdf(z)\n",
    "    else:\n",
    "        p = 1 - stats.norm.cdf(z)\n",
    "        print(z,p)"
   ]
  },
  {
   "cell_type": "code",
   "execution_count": 29,
   "metadata": {},
   "outputs": [
    {
     "name": "stdout",
     "output_type": "stream",
     "text": [
      "2.5155764746872635 0.00594189462107364\n"
     ]
    }
   ],
   "source": [
    "z_and_p(121,112,8,8,10,10)"
   ]
  }
 ],
 "metadata": {
  "kernelspec": {
   "display_name": "Python 3",
   "language": "python",
   "name": "python3"
  },
  "language_info": {
   "codemirror_mode": {
    "name": "ipython",
    "version": 3
   },
   "file_extension": ".py",
   "mimetype": "text/x-python",
   "name": "python",
   "nbconvert_exporter": "python",
   "pygments_lexer": "ipython3",
   "version": "3.12.0"
  }
 },
 "nbformat": 4,
 "nbformat_minor": 2
}
